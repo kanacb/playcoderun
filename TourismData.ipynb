{
  "nbformat": 4,
  "nbformat_minor": 0,
  "metadata": {
    "colab": {
      "name": "TourismData.ipynb",
      "provenance": [],
      "collapsed_sections": [],
      "authorship_tag": "ABX9TyO1Wi7RP6UKgGxs2gABbfHA",
      "include_colab_link": true
    },
    "kernelspec": {
      "name": "python3",
      "display_name": "Python 3"
    },
    "language_info": {
      "name": "python"
    }
  },
  "cells": [
    {
      "cell_type": "markdown",
      "metadata": {
        "id": "view-in-github",
        "colab_type": "text"
      },
      "source": [
        "<a href=\"https://colab.research.google.com/github/kanacb/playcoderun/blob/main/TourismData.ipynb\" target=\"_parent\"><img src=\"https://colab.research.google.com/assets/colab-badge.svg\" alt=\"Open In Colab\"/></a>"
      ]
    },
    {
      "cell_type": "markdown",
      "metadata": {
        "id": "78vmnC1Dkwf7"
      },
      "source": [
        "# Exploring Tourism Data\n",
        "\n",
        "Learning Objectives\n",
        "1. Import the data\n",
        "2. Clean the Data \n",
        "3. Look historgram and density\n",
        "\n"
      ]
    },
    {
      "cell_type": "code",
      "metadata": {
        "id": "kxSS-CULkv3k"
      },
      "source": [
        "import pandas as pd"
      ],
      "execution_count": null,
      "outputs": []
    },
    {
      "cell_type": "code",
      "metadata": {
        "id": "e7Ipt-wDkigm"
      },
      "source": [
        "data = pd.read_excel('API_ST.INT.ARVL_DS2_en_excel_v2_3011737.xls')"
      ],
      "execution_count": null,
      "outputs": []
    },
    {
      "cell_type": "code",
      "metadata": {
        "id": "rGZOSXB3ls8a"
      },
      "source": [
        "df = data.iloc[2:]"
      ],
      "execution_count": null,
      "outputs": []
    },
    {
      "cell_type": "code",
      "metadata": {
        "colab": {
          "base_uri": "https://localhost:8080/"
        },
        "id": "OjJ-cl0emsD5",
        "outputId": "62279d1d-faef-40d3-f98d-8da5901c63d4"
      },
      "source": [
        "df.rename(columns=df.iloc[0], inplace=True)"
      ],
      "execution_count": null,
      "outputs": [
        {
          "output_type": "stream",
          "name": "stderr",
          "text": [
            "/usr/local/lib/python3.7/dist-packages/pandas/core/frame.py:4308: SettingWithCopyWarning: \n",
            "A value is trying to be set on a copy of a slice from a DataFrame\n",
            "\n",
            "See the caveats in the documentation: https://pandas.pydata.org/pandas-docs/stable/user_guide/indexing.html#returning-a-view-versus-a-copy\n",
            "  errors=errors,\n"
          ]
        }
      ]
    },
    {
      "cell_type": "code",
      "metadata": {
        "id": "vmGrGE91nOpu"
      },
      "source": [
        "dfnew = df.iloc[1:]"
      ],
      "execution_count": null,
      "outputs": []
    },
    {
      "cell_type": "code",
      "metadata": {
        "id": "PPbE7ah0qmrh"
      },
      "source": [
        ""
      ],
      "execution_count": null,
      "outputs": []
    },
    {
      "cell_type": "code",
      "metadata": {
        "id": "rfDPmBv7pNcO"
      },
      "source": [
        "dfnew = dfnew.drop(['Indicator Name','Indicator Code'], axis = 1)"
      ],
      "execution_count": null,
      "outputs": []
    },
    {
      "cell_type": "code",
      "metadata": {
        "id": "6IHpDstrqifF"
      },
      "source": [
        "dfnew = dfnew.reset_index()"
      ],
      "execution_count": null,
      "outputs": []
    },
    {
      "cell_type": "code",
      "metadata": {
        "id": "aNeiwrf6q5Ar"
      },
      "source": [
        "coloums_remove = [float(col) for col in range(1960,1995)]\n"
      ],
      "execution_count": null,
      "outputs": []
    },
    {
      "cell_type": "code",
      "metadata": {
        "id": "yTstDN2vrPNK"
      },
      "source": [
        "coloums_remove"
      ],
      "execution_count": null,
      "outputs": []
    },
    {
      "cell_type": "code",
      "metadata": {
        "id": "qwQmM2RGrWms"
      },
      "source": [
        "dfnew = dfnew.drop(coloums_remove, axis = 1)"
      ],
      "execution_count": null,
      "outputs": []
    },
    {
      "cell_type": "code",
      "metadata": {
        "id": "IfdetQZ0raIC"
      },
      "source": [
        "dfnew2 = dfnew.fillna(dfnew.mean())\n"
      ],
      "execution_count": null,
      "outputs": []
    },
    {
      "cell_type": "code",
      "metadata": {
        "id": "nZB8uf1zsqPF"
      },
      "source": [
        "dfnew2.head(10)"
      ],
      "execution_count": null,
      "outputs": []
    },
    {
      "cell_type": "code",
      "metadata": {
        "id": "CYUywZHKswLK"
      },
      "source": [
        "dfnew.head(10)"
      ],
      "execution_count": null,
      "outputs": []
    },
    {
      "cell_type": "code",
      "metadata": {
        "id": "wpRaVj8OtJiT"
      },
      "source": [
        "dfnew2.to_csv('malaysian_tourism_data_1995-2019.csv')\n"
      ],
      "execution_count": null,
      "outputs": []
    },
    {
      "cell_type": "code",
      "metadata": {
        "id": "eQRXDngzt7vy"
      },
      "source": [
        "dfnew2"
      ],
      "execution_count": null,
      "outputs": []
    },
    {
      "cell_type": "code",
      "metadata": {
        "id": "5macY3-auQ67"
      },
      "source": [
        "dfnew3 = dfnew2.drop(['level_0','index'], axis = 1)"
      ],
      "execution_count": null,
      "outputs": []
    },
    {
      "cell_type": "code",
      "metadata": {
        "id": "UbrYC8SNubAM"
      },
      "source": [
        "dfnew3"
      ],
      "execution_count": null,
      "outputs": []
    },
    {
      "cell_type": "code",
      "metadata": {
        "id": "JiUMiaE6uges"
      },
      "source": [
        "high_1995 = dfnew3[1995.0].idxmax()"
      ],
      "execution_count": null,
      "outputs": []
    },
    {
      "cell_type": "code",
      "metadata": {
        "colab": {
          "base_uri": "https://localhost:8080/"
        },
        "id": "eHTK7K9XvJ-5",
        "outputId": "b27fae1e-4a21-404a-87dc-7955a2690484"
      },
      "source": [
        "high_1995"
      ],
      "execution_count": null,
      "outputs": [
        {
          "output_type": "execute_result",
          "data": {
            "text/plain": [
              "259"
            ]
          },
          "metadata": {},
          "execution_count": 89
        }
      ]
    },
    {
      "cell_type": "code",
      "metadata": {
        "colab": {
          "base_uri": "https://localhost:8080/",
          "height": 115
        },
        "id": "OXx4ur4XvNQL",
        "outputId": "30939d29-f42e-4581-df9b-e7e0a001dd71"
      },
      "source": [
        "dfnew3.loc[[259]]"
      ],
      "execution_count": null,
      "outputs": [
        {
          "output_type": "execute_result",
          "data": {
            "text/html": [
              "<div>\n",
              "<style scoped>\n",
              "    .dataframe tbody tr th:only-of-type {\n",
              "        vertical-align: middle;\n",
              "    }\n",
              "\n",
              "    .dataframe tbody tr th {\n",
              "        vertical-align: top;\n",
              "    }\n",
              "\n",
              "    .dataframe thead th {\n",
              "        text-align: right;\n",
              "    }\n",
              "</style>\n",
              "<table border=\"1\" class=\"dataframe\">\n",
              "  <thead>\n",
              "    <tr style=\"text-align: right;\">\n",
              "      <th></th>\n",
              "      <th>Country Name</th>\n",
              "      <th>Country Code</th>\n",
              "      <th>1995.0</th>\n",
              "      <th>1996.0</th>\n",
              "      <th>1997.0</th>\n",
              "      <th>1998.0</th>\n",
              "      <th>1999.0</th>\n",
              "      <th>2000.0</th>\n",
              "      <th>2001.0</th>\n",
              "      <th>2002.0</th>\n",
              "      <th>2003.0</th>\n",
              "      <th>2004.0</th>\n",
              "      <th>2005.0</th>\n",
              "      <th>2006.0</th>\n",
              "      <th>2007.0</th>\n",
              "      <th>2008.0</th>\n",
              "      <th>2009.0</th>\n",
              "      <th>2010.0</th>\n",
              "      <th>2011.0</th>\n",
              "      <th>2012.0</th>\n",
              "      <th>2013.0</th>\n",
              "      <th>2014.0</th>\n",
              "      <th>2015.0</th>\n",
              "      <th>2016.0</th>\n",
              "      <th>2017.0</th>\n",
              "      <th>2018.0</th>\n",
              "      <th>2019.0</th>\n",
              "      <th>2020.0</th>\n",
              "    </tr>\n",
              "  </thead>\n",
              "  <tbody>\n",
              "    <tr>\n",
              "      <th>259</th>\n",
              "      <td>World</td>\n",
              "      <td>WLD</td>\n",
              "      <td>1.024979e+09</td>\n",
              "      <td>1.082486e+09</td>\n",
              "      <td>1.130316e+09</td>\n",
              "      <td>1.145612e+09</td>\n",
              "      <td>1.188192e+09</td>\n",
              "      <td>1.262413e+09</td>\n",
              "      <td>1.231352e+09</td>\n",
              "      <td>1.252355e+09</td>\n",
              "      <td>1.234392e+09</td>\n",
              "      <td>1.363541e+09</td>\n",
              "      <td>1.426061e+09</td>\n",
              "      <td>1.598479e+09</td>\n",
              "      <td>1.652013e+09</td>\n",
              "      <td>1.662876e+09</td>\n",
              "      <td>1.602439e+09</td>\n",
              "      <td>1.667619e+09</td>\n",
              "      <td>1.700644e+09</td>\n",
              "      <td>1.784601e+09</td>\n",
              "      <td>1.852337e+09</td>\n",
              "      <td>1.909107e+09</td>\n",
              "      <td>1.966290e+09</td>\n",
              "      <td>2.031531e+09</td>\n",
              "      <td>2.135215e+09</td>\n",
              "      <td>2.221459e+09</td>\n",
              "      <td>2.280131e+09</td>\n",
              "      <td>NaN</td>\n",
              "    </tr>\n",
              "  </tbody>\n",
              "</table>\n",
              "</div>"
            ],
            "text/plain": [
              "    Country Name Country Code        1995.0  ...        2018.0        2019.0  2020.0\n",
              "259        World          WLD  1.024979e+09  ...  2.221459e+09  2.280131e+09     NaN\n",
              "\n",
              "[1 rows x 28 columns]"
            ]
          },
          "metadata": {},
          "execution_count": 94
        }
      ]
    },
    {
      "cell_type": "code",
      "metadata": {
        "id": "mYySN4hJwGKs"
      },
      "source": [
        "dfnew4 = dfnew3.drop([dfnew3.index[259]])"
      ],
      "execution_count": null,
      "outputs": []
    },
    {
      "cell_type": "code",
      "metadata": {
        "colab": {
          "base_uri": "https://localhost:8080/"
        },
        "id": "pjnbeaaiwk1V",
        "outputId": "b758d0cb-e7ad-4bcc-abbd-c969f6688b88"
      },
      "source": [
        "high_1995 = dfnew4[1995.0].idxmax()\n",
        "high_1995"
      ],
      "execution_count": null,
      "outputs": [
        {
          "output_type": "execute_result",
          "data": {
            "text/plain": [
              "181"
            ]
          },
          "metadata": {},
          "execution_count": 97
        }
      ]
    },
    {
      "cell_type": "code",
      "metadata": {
        "colab": {
          "base_uri": "https://localhost:8080/",
          "height": 132
        },
        "id": "c3Xfsr4qwyxl",
        "outputId": "1b3ef04f-b6a8-4359-d3fb-087b0469a026"
      },
      "source": [
        "dfnew4.loc[[181]]"
      ],
      "execution_count": null,
      "outputs": [
        {
          "output_type": "execute_result",
          "data": {
            "text/html": [
              "<div>\n",
              "<style scoped>\n",
              "    .dataframe tbody tr th:only-of-type {\n",
              "        vertical-align: middle;\n",
              "    }\n",
              "\n",
              "    .dataframe tbody tr th {\n",
              "        vertical-align: top;\n",
              "    }\n",
              "\n",
              "    .dataframe thead th {\n",
              "        text-align: right;\n",
              "    }\n",
              "</style>\n",
              "<table border=\"1\" class=\"dataframe\">\n",
              "  <thead>\n",
              "    <tr style=\"text-align: right;\">\n",
              "      <th></th>\n",
              "      <th>Country Name</th>\n",
              "      <th>Country Code</th>\n",
              "      <th>1995.0</th>\n",
              "      <th>1996.0</th>\n",
              "      <th>1997.0</th>\n",
              "      <th>1998.0</th>\n",
              "      <th>1999.0</th>\n",
              "      <th>2000.0</th>\n",
              "      <th>2001.0</th>\n",
              "      <th>2002.0</th>\n",
              "      <th>2003.0</th>\n",
              "      <th>2004.0</th>\n",
              "      <th>2005.0</th>\n",
              "      <th>2006.0</th>\n",
              "      <th>2007.0</th>\n",
              "      <th>2008.0</th>\n",
              "      <th>2009.0</th>\n",
              "      <th>2010.0</th>\n",
              "      <th>2011.0</th>\n",
              "      <th>2012.0</th>\n",
              "      <th>2013.0</th>\n",
              "      <th>2014.0</th>\n",
              "      <th>2015.0</th>\n",
              "      <th>2016.0</th>\n",
              "      <th>2017.0</th>\n",
              "      <th>2018.0</th>\n",
              "      <th>2019.0</th>\n",
              "      <th>2020.0</th>\n",
              "    </tr>\n",
              "  </thead>\n",
              "  <tbody>\n",
              "    <tr>\n",
              "      <th>181</th>\n",
              "      <td>OECD members</td>\n",
              "      <td>OED</td>\n",
              "      <td>7.820643e+08</td>\n",
              "      <td>8.175267e+08</td>\n",
              "      <td>8.428156e+08</td>\n",
              "      <td>8.553810e+08</td>\n",
              "      <td>8.688356e+08</td>\n",
              "      <td>8.993974e+08</td>\n",
              "      <td>8.433396e+08</td>\n",
              "      <td>8.313681e+08</td>\n",
              "      <td>8.156120e+08</td>\n",
              "      <td>8.693009e+08</td>\n",
              "      <td>9.020373e+08</td>\n",
              "      <td>1.039695e+09</td>\n",
              "      <td>1.040391e+09</td>\n",
              "      <td>1.034749e+09</td>\n",
              "      <td>9.956581e+08</td>\n",
              "      <td>1.006706e+09</td>\n",
              "      <td>1.021675e+09</td>\n",
              "      <td>1.071525e+09</td>\n",
              "      <td>1.111242e+09</td>\n",
              "      <td>1.144634e+09</td>\n",
              "      <td>1.180486e+09</td>\n",
              "      <td>1.223902e+09</td>\n",
              "      <td>1.277930e+09</td>\n",
              "      <td>1.309831e+09</td>\n",
              "      <td>1.342168e+09</td>\n",
              "      <td>NaN</td>\n",
              "    </tr>\n",
              "  </tbody>\n",
              "</table>\n",
              "</div>"
            ],
            "text/plain": [
              "     Country Name Country Code  ...        2019.0  2020.0\n",
              "181  OECD members          OED  ...  1.342168e+09     NaN\n",
              "\n",
              "[1 rows x 28 columns]"
            ]
          },
          "metadata": {},
          "execution_count": 98
        }
      ]
    },
    {
      "cell_type": "code",
      "metadata": {
        "colab": {
          "base_uri": "https://localhost:8080/"
        },
        "id": "DPEALXF4xE5y",
        "outputId": "83b085a5-c846-4a94-c0a4-263ebda21b1c"
      },
      "source": [
        "dfnew4[1995.0].describe()"
      ],
      "execution_count": null,
      "outputs": [
        {
          "output_type": "execute_result",
          "data": {
            "text/plain": [
              "count    2.650000e+02\n",
              "mean     3.419869e+07\n",
              "std      9.618711e+07\n",
              "min      9.000000e+02\n",
              "25%      3.700000e+05\n",
              "50%      3.820369e+06\n",
              "75%      3.792342e+07\n",
              "max      7.820643e+08\n",
              "Name: 1995.0, dtype: float64"
            ]
          },
          "metadata": {},
          "execution_count": 100
        }
      ]
    },
    {
      "cell_type": "code",
      "metadata": {
        "colab": {
          "base_uri": "https://localhost:8080/",
          "height": 293
        },
        "id": "b13qWVUZxPcX",
        "outputId": "a3615138-e182-4106-e3c3-e8d0dcae4819"
      },
      "source": [
        "dfnew4[2019.0].plot()"
      ],
      "execution_count": null,
      "outputs": [
        {
          "output_type": "execute_result",
          "data": {
            "text/plain": [
              "<matplotlib.axes._subplots.AxesSubplot at 0x7fc6c214c510>"
            ]
          },
          "metadata": {},
          "execution_count": 102
        },
        {
          "output_type": "display_data",
          "data": {
            "image/png": "[encoded data removed]",
            "text/plain": [
              "<Figure size 432x288 with 1 Axes>"
            ]
          },
          "metadata": {
            "needs_background": "light"
          }
        }
      ]
    }
  ]
}